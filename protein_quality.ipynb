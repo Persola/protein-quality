{
 "cells": [
  {
   "cell_type": "code",
   "execution_count": 1,
   "metadata": {},
   "outputs": [],
   "source": [
    "from matplotlib import pyplot"
   ]
  },
  {
   "cell_type": "code",
   "execution_count": 2,
   "metadata": {},
   "outputs": [],
   "source": [
    "def normz(nums):\n",
    "    avg = sum(nums)/len(nums)\n",
    "    return [x/avg for x in nums]"
   ]
  },
  {
   "cell_type": "code",
   "execution_count": 3,
   "metadata": {},
   "outputs": [
    {
     "data": {
      "text/plain": [
       "<BarContainer object of 9 artists>"
      ]
     },
     "execution_count": 3,
     "metadata": {},
     "output_type": "execute_result"
    },
    {
     "data": {
      "image/png": "[encoded data removed]",
      "text/plain": [
       "<Figure size 432x288 with 1 Axes>"
      ]
     },
     "metadata": {
      "needs_background": "light"
     },
     "output_type": "display_data"
    }
   ],
   "source": [
    "# Isoleucine ------------------- 25\n",
    "# Leucine ---------------------- 55\n",
    "# Lysine ----------------------- 51\n",
    "# Methionine + Cysteine (SAA) -- 25\n",
    "# Phenylalanine + Tyrosine ----- 47\n",
    "# Threonine -------------------- 27\n",
    "# Tryptophan -------------------  7\n",
    "# Valine ----------------------- 32\n",
    "# Histidine -------------------- 18 \n",
    "\n",
    "standard = [\n",
    "    25,\n",
    "    55,\n",
    "    51,\n",
    "    25,\n",
    "    47,\n",
    "    27,\n",
    "    7,\n",
    "    32,\n",
    "    18,\n",
    "]\n",
    "\n",
    "pyplot.bar(\n",
    "    [1, 2, 3, 4, 5, 6, 7, 8, 9],\n",
    "    normz(standard),\n",
    ")"
   ]
  },
  {
   "cell_type": "code",
   "execution_count": 4,
   "metadata": {},
   "outputs": [],
   "source": [
    "now_peas = normz([\n",
    "    1094,\n",
    "    2009,\n",
    "    1796,\n",
    "    (211 + 358),\n",
    "    (1322 + 895),\n",
    "    936,\n",
    "    211,\n",
    "    1183,\n",
    "    590,\n",
    "])"
   ]
  },
  {
   "cell_type": "code",
   "execution_count": 7,
   "metadata": {},
   "outputs": [],
   "source": [
    "now_rice = normz([\n",
    "    205,\n",
    "    437,\n",
    "    184,\n",
    "    (137 + 88),\n",
    "    (275 + 282),\n",
    "    186,\n",
    "    55,\n",
    "    276,\n",
    "    116\n",
    "])"
   ]
  },
  {
   "cell_type": "code",
   "execution_count": 14,
   "metadata": {},
   "outputs": [],
   "source": [
    "# zen principle brown rice protein\n",
    "zen_rice = normz([\n",
    "    1092,\n",
    "    2127,\n",
    "    903,\n",
    "    (675 + 435),\n",
    "    (1392 + 1356),\n",
    "    951,\n",
    "    540,\n",
    "    1569,\n",
    "    600\n",
    "])"
   ]
  },
  {
   "cell_type": "code",
   "execution_count": 15,
   "metadata": {
    "scrolled": true
   },
   "outputs": [],
   "source": [
    "def plot_quality(sourceNums):\n",
    "    pyplot.bar(\n",
    "        [1, 2, 3, 4, 5, 6, 7, 8, 9],\n",
    "        [\n",
    "            x/(normz(standard)[ind])\n",
    "            for ind, x\n",
    "            in enumerate(normz(sourceNums))],\n",
    "    )\n",
    "    pyplot.axhline(y=1, color='g', linestyle='-')"
   ]
  },
  {
   "cell_type": "code",
   "execution_count": 16,
   "metadata": {},
   "outputs": [
    {
     "data": {
      "image/png": "[encoded data removed]",
      "text/plain": [
       "<Figure size 432x288 with 1 Axes>"
      ]
     },
     "metadata": {
      "needs_background": "light"
     },
     "output_type": "display_data"
    }
   ],
   "source": [
    "plot_quality(now_peas)"
   ]
  },
  {
   "cell_type": "code",
   "execution_count": 17,
   "metadata": {},
   "outputs": [
    {
     "data": {
      "image/png": "[encoded data removed]",
      "text/plain": [
       "<Figure size 432x288 with 1 Axes>"
      ]
     },
     "metadata": {
      "needs_background": "light"
     },
     "output_type": "display_data"
    }
   ],
   "source": [
    "plot_quality(now_rice)"
   ]
  },
  {
   "cell_type": "code",
   "execution_count": 18,
   "metadata": {},
   "outputs": [
    {
     "data": {
      "image/png": "[encoded data removed]",
      "text/plain": [
       "<Figure size 432x288 with 1 Axes>"
      ]
     },
     "metadata": {
      "needs_background": "light"
     },
     "output_type": "display_data"
    }
   ],
   "source": [
    "plot_quality(zen_rice)"
   ]
  },
  {
   "cell_type": "code",
   "execution_count": 11,
   "metadata": {},
   "outputs": [
    {
     "data": {
      "image/png": "[encoded data removed]",
      "text/plain": [
       "<Figure size 432x288 with 1 Axes>"
      ]
     },
     "metadata": {
      "needs_background": "light"
     },
     "output_type": "display_data"
    }
   ],
   "source": [
    "mix = 0.7\n",
    "antimix = 1 - mix\n",
    "\n",
    "plot_quality([\n",
    "    (\n",
    "        (now_peas[x] * mix)\n",
    "        + (now_rice[x] * antimix)\n",
    "    )\n",
    "    for x\n",
    "    in range(9)\n",
    "])"
   ]
  },
  {
   "cell_type": "code",
   "execution_count": null,
   "metadata": {},
   "outputs": [],
   "source": []
  }
 ],
 "metadata": {
  "kernelspec": {
   "display_name": "Python 3",
   "language": "python",
   "name": "python3"
  },
  "language_info": {
   "codemirror_mode": {
    "name": "ipython",
    "version": 3
   },
   "file_extension": ".py",
   "mimetype": "text/x-python",
   "name": "python",
   "nbconvert_exporter": "python",
   "pygments_lexer": "ipython3",
   "version": "3.7.0"
  }
 },
 "nbformat": 4,
 "nbformat_minor": 2
}
