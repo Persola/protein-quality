{
 "cells": [
  {
   "cell_type": "code",
   "execution_count": 1,
   "metadata": {
    "scrolled": true
   },
   "outputs": [],
   "source": [
    "from statistics import mean\n",
    "\n",
    "from scipy.stats import pmean\n",
    "from matplotlib import pyplot"
   ]
  },
  {
   "cell_type": "code",
   "execution_count": 2,
   "metadata": {},
   "outputs": [],
   "source": [
    "def normalize_quantity(nums):\n",
    "    avg = sum(nums)/len(nums)\n",
    "    return [x/avg for x in nums]"
   ]
  },
  {
   "cell_type": "code",
   "execution_count": 3,
   "metadata": {},
   "outputs": [],
   "source": [
    "def mad(vals):\n",
    "    p1mean = mean(vals)\n",
    "    return mean([abs(val - p1mean) for val in vals])"
   ]
  },
  {
   "cell_type": "code",
   "execution_count": 4,
   "metadata": {},
   "outputs": [],
   "source": [
    "# Isoleucine ------------------- 25\n",
    "# Leucine ---------------------- 55\n",
    "# Lysine ----------------------- 51\n",
    "# Methionine + Cysteine (SAA) -- 25\n",
    "# Phenylalanine + Tyrosine ----- 47\n",
    "# Threonine -------------------- 27\n",
    "# Tryptophan -------------------  7\n",
    "# Valine ----------------------- 32\n",
    "# Histidine -------------------- 18 \n",
    "\n",
    "egg = [\n",
    "    25,\n",
    "    55,\n",
    "    51,\n",
    "    25,\n",
    "    47,\n",
    "    27,\n",
    "    7,\n",
    "    32,\n",
    "    18,\n",
    "]"
   ]
  },
  {
   "cell_type": "code",
   "execution_count": 5,
   "metadata": {},
   "outputs": [],
   "source": [
    "def normalize_against_egg(quant_normed):    \n",
    "    quant_normed_egg = normalize_quantity(egg)\n",
    "\n",
    "    return [\n",
    "        quant_normed_val/(quant_normed_egg[ind])\n",
    "        for ind, quant_normed_val\n",
    "        in enumerate(quant_normed)\n",
    "    ]"
   ]
  },
  {
   "cell_type": "code",
   "execution_count": 6,
   "metadata": {},
   "outputs": [],
   "source": [
    "def p_neg_2_mean_deficit(normed_scores):\n",
    "    capped = [min(1, x) for x in normed_scores]\n",
    "    return pmean(capped, -2)"
   ]
  },
  {
   "cell_type": "code",
   "execution_count": 7,
   "metadata": {},
   "outputs": [],
   "source": [
    "def plot_quality(sourceNums):\n",
    "    pyplot.bar(\n",
    "        [1, 2, 3, 4, 5, 6, 7, 8, 9],\n",
    "        [\n",
    "            x/(normalize_quantity(egg)[ind])\n",
    "            for ind, x\n",
    "            in enumerate(normalize_quantity(sourceNums))\n",
    "        ],\n",
    "        color='black'\n",
    "    )\n",
    "    pyplot.axhline(y=1, color='g', linestyle='-')"
   ]
  },
  {
   "cell_type": "code",
   "execution_count": 8,
   "metadata": {},
   "outputs": [],
   "source": [
    "now_peas = normalize_quantity([\n",
    "    1094,\n",
    "    2009,\n",
    "    1796,\n",
    "    (211 + 358),\n",
    "    (1322 + 895),\n",
    "    936,\n",
    "    211,\n",
    "    1183,\n",
    "    590,\n",
    "])"
   ]
  },
  {
   "cell_type": "code",
   "execution_count": 9,
   "metadata": {},
   "outputs": [
    {
     "data": {
      "text/plain": [
       "[0.9284299858557284,\n",
       " 1.7049504950495051,\n",
       " 1.5241867043847244,\n",
       " 0.4828854314002829,\n",
       " 1.8814710042432816,\n",
       " 0.7943422913719944,\n",
       " 0.17906647807637907,\n",
       " 1.003960396039604,\n",
       " 0.5007072135785008]"
      ]
     },
     "execution_count": 9,
     "metadata": {},
     "output_type": "execute_result"
    }
   ],
   "source": [
    "now_peas"
   ]
  },
  {
   "cell_type": "code",
   "execution_count": 10,
   "metadata": {},
   "outputs": [
    {
     "data": {
      "text/plain": [
       "0.4699041332704699"
      ]
     },
     "execution_count": 10,
     "metadata": {},
     "output_type": "execute_result"
    }
   ],
   "source": [
    "mad(now_peas)"
   ]
  },
  {
   "cell_type": "code",
   "execution_count": 11,
   "metadata": {},
   "outputs": [
    {
     "data": {
      "text/plain": [
       "0.44132410351347845"
      ]
     },
     "execution_count": 11,
     "metadata": {},
     "output_type": "execute_result"
    }
   ],
   "source": [
    "p_neg_2_mean_deficit(now_peas)"
   ]
  },
  {
   "cell_type": "code",
   "execution_count": 12,
   "metadata": {},
   "outputs": [
    {
     "data": {
      "image/png": "[encoded data removed]",
      "text/plain": [
       "<Figure size 640x480 with 1 Axes>"
      ]
     },
     "metadata": {},
     "output_type": "display_data"
    }
   ],
   "source": [
    "plot_quality(now_peas)"
   ]
  },
  {
   "cell_type": "code",
   "execution_count": 13,
   "metadata": {},
   "outputs": [],
   "source": [
    "now_rice = normalize_quantity([\n",
    "    205,\n",
    "    437,\n",
    "    184,\n",
    "    (137 + 88),\n",
    "    (275 + 282),\n",
    "    186,\n",
    "    55,\n",
    "    276,\n",
    "    116\n",
    "])"
   ]
  },
  {
   "cell_type": "code",
   "execution_count": 14,
   "metadata": {},
   "outputs": [
    {
     "data": {
      "text/plain": [
       "[0.8232931726907631,\n",
       " 1.7550200803212852,\n",
       " 0.7389558232931727,\n",
       " 0.9036144578313253,\n",
       " 2.2369477911646585,\n",
       " 0.7469879518072289,\n",
       " 0.22088353413654618,\n",
       " 1.108433734939759,\n",
       " 0.46586345381526106]"
      ]
     },
     "execution_count": 14,
     "metadata": {},
     "output_type": "execute_result"
    }
   ],
   "source": [
    "now_rice"
   ]
  },
  {
   "cell_type": "code",
   "execution_count": 15,
   "metadata": {},
   "outputs": [
    {
     "data": {
      "text/plain": [
       "0.4667559125390451"
      ]
     },
     "execution_count": 15,
     "metadata": {},
     "output_type": "execute_result"
    }
   ],
   "source": [
    "mad(now_rice)"
   ]
  },
  {
   "cell_type": "code",
   "execution_count": 16,
   "metadata": {},
   "outputs": [
    {
     "data": {
      "text/plain": [
       "0.5112922557945111"
      ]
     },
     "execution_count": 16,
     "metadata": {},
     "output_type": "execute_result"
    }
   ],
   "source": [
    "p_neg_2_mean_deficit(now_rice)"
   ]
  },
  {
   "cell_type": "code",
   "execution_count": 17,
   "metadata": {},
   "outputs": [
    {
     "data": {
      "image/png": "[encoded data removed]",
      "text/plain": [
       "<Figure size 640x480 with 1 Axes>"
      ]
     },
     "metadata": {},
     "output_type": "display_data"
    }
   ],
   "source": [
    "plot_quality(now_rice)"
   ]
  },
  {
   "cell_type": "code",
   "execution_count": 18,
   "metadata": {},
   "outputs": [],
   "source": [
    "# zen principle brown rice protein\n",
    "zen_rice = normalize_quantity([\n",
    "    1092,\n",
    "    2127,\n",
    "    903,\n",
    "    (675 + 435),\n",
    "    (1392 + 1356),\n",
    "    951,\n",
    "    540,\n",
    "    1569,\n",
    "    600\n",
    "])"
   ]
  },
  {
   "cell_type": "code",
   "execution_count": 19,
   "metadata": {},
   "outputs": [
    {
     "data": {
      "text/plain": [
       "[0.8443298969072165,\n",
       " 1.6445876288659795,\n",
       " 0.6981958762886599,\n",
       " 0.8582474226804124,\n",
       " 2.124742268041237,\n",
       " 0.7353092783505155,\n",
       " 0.4175257731958763,\n",
       " 1.2131443298969073,\n",
       " 0.4639175257731959]"
      ]
     },
     "execution_count": 19,
     "metadata": {},
     "output_type": "execute_result"
    }
   ],
   "source": [
    "zen_rice"
   ]
  },
  {
   "cell_type": "code",
   "execution_count": 20,
   "metadata": {},
   "outputs": [
    {
     "data": {
      "text/plain": [
       "0.44054982817869415"
      ]
     },
     "execution_count": 20,
     "metadata": {},
     "output_type": "execute_result"
    }
   ],
   "source": [
    "mad(zen_rice)"
   ]
  },
  {
   "cell_type": "code",
   "execution_count": 21,
   "metadata": {},
   "outputs": [
    {
     "data": {
      "text/plain": [
       "0.6700839411803773"
      ]
     },
     "execution_count": 21,
     "metadata": {},
     "output_type": "execute_result"
    }
   ],
   "source": [
    "p_neg_2_mean_deficit(zen_rice)"
   ]
  },
  {
   "cell_type": "code",
   "execution_count": 22,
   "metadata": {},
   "outputs": [
    {
     "data": {
      "image/png": "[encoded data removed]",
      "text/plain": [
       "<Figure size 640x480 with 1 Axes>"
      ]
     },
     "metadata": {},
     "output_type": "display_data"
    }
   ],
   "source": [
    "plot_quality(zen_rice)"
   ]
  },
  {
   "cell_type": "code",
   "execution_count": 23,
   "metadata": {},
   "outputs": [],
   "source": [
    "mix_1 = 0.7\n",
    "mix_2 = 1 - mix_1\n",
    "\n",
    "mix = [\n",
    "    (\n",
    "        (now_peas[x] * mix_1)\n",
    "        + (now_rice[x] * mix_2)\n",
    "    )\n",
    "    for x\n",
    "    in range(9)\n",
    "]"
   ]
  },
  {
   "cell_type": "code",
   "execution_count": 24,
   "metadata": {},
   "outputs": [
    {
     "data": {
      "text/plain": [
       "0.45155672193725394"
      ]
     },
     "execution_count": 24,
     "metadata": {},
     "output_type": "execute_result"
    }
   ],
   "source": [
    "mad(mix)"
   ]
  },
  {
   "cell_type": "code",
   "execution_count": 25,
   "metadata": {},
   "outputs": [
    {
     "data": {
      "text/plain": [
       "0.4686411602998846"
      ]
     },
     "execution_count": 25,
     "metadata": {},
     "output_type": "execute_result"
    }
   ],
   "source": [
    "p_neg_2_mean_deficit(mix)"
   ]
  },
  {
   "cell_type": "code",
   "execution_count": 26,
   "metadata": {},
   "outputs": [
    {
     "data": {
      "image/png": "[encoded data removed]",
      "text/plain": [
       "<Figure size 640x480 with 1 Axes>"
      ]
     },
     "metadata": {},
     "output_type": "display_data"
    }
   ],
   "source": [
    "plot_quality(mix)"
   ]
  },
  {
   "cell_type": "code",
   "execution_count": null,
   "metadata": {},
   "outputs": [],
   "source": []
  }
 ],
 "metadata": {
  "kernelspec": {
   "display_name": "Python 3 (ipykernel)",
   "language": "python",
   "name": "python3"
  },
  "language_info": {
   "codemirror_mode": {
    "name": "ipython",
    "version": 3
   },
   "file_extension": ".py",
   "mimetype": "text/x-python",
   "name": "python",
   "nbconvert_exporter": "python",
   "pygments_lexer": "ipython3",
   "version": "3.9.16"
  }
 },
 "nbformat": 4,
 "nbformat_minor": 2
}
